{
    "metadata": {
        "kernelspec": {
            "name": "SQL",
            "display_name": "SQL",
            "language": "sql"
        },
        "language_info": {
            "name": "sql",
            "version": ""
        }
    },
    "nbformat_minor": 2,
    "nbformat": 4,
    "cells": [
        {
            "cell_type": "code",
            "source": [
                "DROP TABLE if exists [h12].[dimProduct]\n",
                "go\n",
                "CREATE TABLE [h12].[dimProduct]\n",
                "(\n",
                "[id] [int] identity(1,1) not null\n",
                ", [rowKey] [nvarchar](20) not null\n",
                ", [name] [nvarchar](50) not null\n",
                ", [category] [nvarchar](50) not null\n",
                ", [cost] decimal(19,2) not null\n",
                ", [price] decimal(19,2) not null\n",
                ", [rowBatchId] [int] not null\n",
                ", [rowCreated] [datetime] not null default getutcdate()\n",
                ", [rowModified] [datetime] not null default getutcdate()\n",
                ", CONSTRAINT [pk_dimProduct] PRIMARY KEY CLUSTERED ([id])\n",
                ");\n",
                "go\n",
                "\n",
                "create unique index UIX_dimProduct_rowKey on [h12].[dimProduct] ([rowKey]);\n",
                "go"
            ],
            "metadata": {
                "azdata_cell_guid": "982dede1-6ef8-426d-89e6-f1170d6d0ad2",
                "language": "sql",
                "tags": []
            },
            "outputs": [
                {
                    "output_type": "display_data",
                    "data": {
                        "text/html": "Commands completed successfully."
                    },
                    "metadata": {}
                },
                {
                    "output_type": "display_data",
                    "data": {
                        "text/html": "Commands completed successfully."
                    },
                    "metadata": {}
                },
                {
                    "output_type": "display_data",
                    "data": {
                        "text/html": "Commands completed successfully."
                    },
                    "metadata": {}
                },
                {
                    "output_type": "display_data",
                    "data": {
                        "text/html": "Total execution time: 00:00:00.233"
                    },
                    "metadata": {}
                }
            ],
            "execution_count": 1
        },
        {
            "cell_type": "code",
            "source": [
                "DROP TABLE if exists [h12].[dimProduct_stg]\n",
                "go\n",
                "CREATE TABLE [h12].[dimProduct_stg]\n",
                "(\n",
                "[id] [int] identity(1,1) not null\n",
                ", [rowKey] [nvarchar](20) not null\n",
                ", [name] [nvarchar](50) not null\n",
                ", [category] [nvarchar](50) not null\n",
                ", [cost] decimal(19,2) not null\n",
                ", [price] decimal(19,2) not null\n",
                ", [rowBatchId] [int] not null\n",
                ", [rowCreated] [datetime] not null default getutcdate()\n",
                ", [rowModified] [datetime] not null default getutcdate()\n",
                ", CONSTRAINT [pk_dimProduct_stg] PRIMARY KEY CLUSTERED ([id])\n",
                ");\n",
                "go\n",
                "create unique index UIX_dimProduct_stg_rowKey on [h12].[dimProduct_stg] ([rowKey]);\n",
                "go"
            ],
            "metadata": {
                "azdata_cell_guid": "35ae912b-322b-47b6-aee6-aca22a92b073",
                "language": "sql"
            },
            "outputs": [
                {
                    "output_type": "display_data",
                    "data": {
                        "text/html": "Commands completed successfully."
                    },
                    "metadata": {}
                },
                {
                    "output_type": "display_data",
                    "data": {
                        "text/html": "Commands completed successfully."
                    },
                    "metadata": {}
                },
                {
                    "output_type": "display_data",
                    "data": {
                        "text/html": "Commands completed successfully."
                    },
                    "metadata": {}
                },
                {
                    "output_type": "display_data",
                    "data": {
                        "text/html": "Total execution time: 00:00:00.209"
                    },
                    "metadata": {}
                }
            ],
            "execution_count": 2
        },
        {
            "cell_type": "code",
            "source": [
                "DROP PROCEDURE IF EXISTS [h12].[dimProduct_publish];\n",
                "GO\n",
                "\n",
                "CREATE PROCEDURE [h12].[dimProduct_publish]\n",
                "@BatchId INT\n",
                "AS\n",
                "BEGIN\n",
                "    MERGE INTO [h12].[dimProduct] AS TRG\n",
                "    USING [h12].[dimProduct_stg] AS SRC\n",
                "    ON SRC.[rowKey] = TRG.[rowKey]\n",
                "    AND SRC.[rowBatchId] = @BatchId\n",
                "    WHEN MATCHED THEN\n",
                "        UPDATE SET \n",
                "            TRG.[name] = SRC.[name],\n",
                "            TRG.[category] = SRC.[category],\n",
                "            TRG.[cost] = SRC.[cost],\n",
                "            TRG.[price] = SRC.[price],\n",
                "            TRG.[rowBatchId] = SRC.[rowBatchId],\n",
                "            TRG.[rowModified] = GETUTCDATE()\n",
                "    WHEN NOT MATCHED THEN\n",
                "        INSERT ( \n",
                "            [rowKey],\n",
                "            [name],\n",
                "            [category],\n",
                "            [cost],\n",
                "            [price],\n",
                "            [rowBatchId],\n",
                "            [rowCreated],\n",
                "            [rowModified]\n",
                "        )\n",
                "        VALUES (\n",
                "            SRC.[rowKey],\n",
                "            SRC.[name],\n",
                "            SRC.[category],\n",
                "            SRC.[cost],\n",
                "            SRC.[price],\n",
                "            SRC.[rowBatchId],\n",
                "            GETUTCDATE(),\n",
                "            GETUTCDATE()\n",
                "        );\n",
                "END;\n",
                "GO\n",
                ""
            ],
            "metadata": {
                "azdata_cell_guid": "fafbb738-337b-4f85-a4fa-f8cacc9f52f3",
                "language": "sql"
            },
            "outputs": [
                {
                    "output_type": "display_data",
                    "data": {
                        "text/html": "Commands completed successfully."
                    },
                    "metadata": {}
                },
                {
                    "output_type": "display_data",
                    "data": {
                        "text/html": "Commands completed successfully."
                    },
                    "metadata": {}
                },
                {
                    "output_type": "display_data",
                    "data": {
                        "text/html": "Total execution time: 00:00:00.142"
                    },
                    "metadata": {}
                }
            ],
            "execution_count": 17
        },
        {
            "cell_type": "code",
            "source": [
                "DROP TABLE if exists [h12].[dimCalendar]\n",
                "go\n",
                "CREATE TABLE [h12].[dimCalendar]\n",
                "(\n",
                "[id] [int] identity(1,1) not null\n",
                ", [date] [date] not null\n",
                ", [year] [smallint] not null\n",
                ", [monthNo] [smallint] not null\n",
                ", [weekNo] [smallint] not null\n",
                ", [yyyy-mm] [nvarchar](7) not null\n",
                ", [yyyy-ww] [nvarchar](7) not null\n",
                ", [dayOfMonth] [smallint] not null\n",
                ", [dayOfYear] [smallint] not null\n",
                "-- CTRL\n",
                ", [rowBatchId] [int] not null\n",
                ", [rowCreated] [datetime] not null default getutcdate()\n",
                ", [rowModified] [datetime] not null default getutcdate()\n",
                ", CONSTRAINT [pk_dimCalendar] PRIMARY KEY CLUSTERED ([id])\n",
                ");\n",
                "go\n",
                "CREATE UNIQUE INDEX UIX_dimCalendar_date ON [h12].[dimCalendar] ([date]);\n",
                "go"
            ],
            "metadata": {
                "azdata_cell_guid": "8989c563-b44c-4fa1-aa3c-f01ccea90473",
                "language": "sql"
            },
            "outputs": [
                {
                    "output_type": "display_data",
                    "data": {
                        "text/html": "Commands completed successfully."
                    },
                    "metadata": {}
                },
                {
                    "output_type": "display_data",
                    "data": {
                        "text/html": "Commands completed successfully."
                    },
                    "metadata": {}
                },
                {
                    "output_type": "display_data",
                    "data": {
                        "text/html": "Commands completed successfully."
                    },
                    "metadata": {}
                },
                {
                    "output_type": "display_data",
                    "data": {
                        "text/html": "Total execution time: 00:00:00.245"
                    },
                    "metadata": {}
                }
            ],
            "execution_count": 4
        },
        {
            "cell_type": "code",
            "source": [
                "DROP TABLE if exists [h12].[dimCalendar_stg]\n",
                "go\n",
                "CREATE TABLE [h12].[dimCalendar_stg]\n",
                "(\n",
                "[id] [int] identity(1,1) not null\n",
                ", [date] [date] not null\n",
                ", [year] [smallint] not null\n",
                ", [monthNo] [smallint] not null\n",
                ", [weekNo] [smallint] not null\n",
                ", [yyyy-mm] [nvarchar](7) not null\n",
                ", [yyyy-ww] [nvarchar](7) not null\n",
                ", [dayOfMonth] [smallint] not null\n",
                ", [dayOfYear] [smallint] not null\n",
                ", [rowBatchId] [int] not null\n",
                ", [rowCreated] [datetime] not null default getutcdate()\n",
                ", [rowModified] [datetime] not null default getutcdate()\n",
                ", CONSTRAINT [pk_dimCalendar_stg] PRIMARY KEY CLUSTERED ([id])\n",
                ");\n",
                "go\n",
                "CREATE UNIQUE INDEX UIX_dimCalendar_stg_date ON [h12].[dimCalendar_stg] ([date]);\n",
                "go"
            ],
            "metadata": {
                "azdata_cell_guid": "136636ab-90f3-4c96-b010-6279a3fe524c",
                "language": "sql",
                "tags": []
            },
            "outputs": [
                {
                    "output_type": "display_data",
                    "data": {
                        "text/html": "Commands completed successfully."
                    },
                    "metadata": {}
                },
                {
                    "output_type": "display_data",
                    "data": {
                        "text/html": "Commands completed successfully."
                    },
                    "metadata": {}
                },
                {
                    "output_type": "display_data",
                    "data": {
                        "text/html": "Commands completed successfully."
                    },
                    "metadata": {}
                },
                {
                    "output_type": "display_data",
                    "data": {
                        "text/html": "Total execution time: 00:00:00.217"
                    },
                    "metadata": {}
                }
            ],
            "execution_count": 5
        },
        {
            "cell_type": "code",
            "source": [
                "DROP PROCEDURE IF EXISTS [h12].[dimCalendar_publish];\n",
                "GO\n",
                "\n",
                "CREATE PROCEDURE [h12].[dimCalendar_publish]\n",
                "@BatchId INT\n",
                "AS\n",
                "BEGIN\n",
                "    MERGE INTO [h12].[dimCalendar] AS TRG\n",
                "    USING [h12].[dimCalendar_stg] AS SRC\n",
                "    ON SRC.[date] = TRG.[date]\n",
                "    AND SRC.[rowBatchId] = @BatchId\n",
                "    WHEN MATCHED THEN\n",
                "        UPDATE SET \n",
                "            TRG.[year] = SRC.[year],\n",
                "            TRG.[monthNo] = SRC.[monthNo],\n",
                "            TRG.[weekNo] = SRC.[weekNo],\n",
                "            TRG.[yyyy-mm] = SRC.[yyyy-mm],\n",
                "            TRG.[yyyy-ww] = SRC.[yyyy-ww],\n",
                "            TRG.[dayOfMonth] = SRC.[dayOfMonth],\n",
                "            TRG.[dayOfYear] = SRC.[dayOfYear],\n",
                "            TRG.[rowBatchId] = SRC.[rowBatchId],\n",
                "            TRG.[rowModified] = GETUTCDATE()\n",
                "    WHEN NOT MATCHED THEN\n",
                "        INSERT ( \n",
                "            [date],\n",
                "            [year],\n",
                "            [monthNo],\n",
                "            [weekNo],\n",
                "            [yyyy-mm],\n",
                "            [yyyy-ww],\n",
                "            [dayOfMonth],\n",
                "            [dayOfYear],\n",
                "            [rowBatchId],\n",
                "            [rowCreated],\n",
                "            [rowModified]\n",
                "        )\n",
                "        VALUES (\n",
                "            SRC.[date],\n",
                "            SRC.[year],\n",
                "            SRC.[monthNo],\n",
                "            SRC.[weekNo],\n",
                "            SRC.[yyyy-mm],\n",
                "            SRC.[yyyy-ww],\n",
                "            SRC.[dayOfMonth],\n",
                "            SRC.[dayOfYear],\n",
                "            SRC.[rowBatchId],\n",
                "            GETUTCDATE(),\n",
                "            GETUTCDATE()\n",
                "        );\n",
                "END;\n",
                "GO\n",
                ""
            ],
            "metadata": {
                "azdata_cell_guid": "3a0fdedd-40a5-4f8e-beb6-153acdeb8098",
                "language": "sql"
            },
            "outputs": [
                {
                    "output_type": "display_data",
                    "data": {
                        "text/html": "Commands completed successfully."
                    },
                    "metadata": {}
                },
                {
                    "output_type": "display_data",
                    "data": {
                        "text/html": "Commands completed successfully."
                    },
                    "metadata": {}
                },
                {
                    "output_type": "display_data",
                    "data": {
                        "text/html": "Total execution time: 00:00:00.137"
                    },
                    "metadata": {}
                }
            ],
            "execution_count": 18
        },
        {
            "cell_type": "code",
            "source": [
                "DROP TABLE if exists [h12].[dimStore]\n",
                "go\n",
                "CREATE TABLE [h12].[dimStore]\n",
                "(\n",
                "[id] [int] identity(1,1) not null\n",
                ", [rowKey] [nvarchar](20) not null\n",
                ", [name] [nvarchar](50) not null\n",
                ", [city] [nvarchar](50) not null\n",
                ", [location] [nvarchar](50) not null\n",
                ", [rowBatchId] [int] not null\n",
                ", [rowCreated] [datetime] not null default getutcdate()\n",
                ", [rowModified] [datetime] not null default getutcdate()\n",
                ", CONSTRAINT [pk_dimStore] PRIMARY KEY CLUSTERED ([id])\n",
                ");\n",
                "go\n",
                "CREATE UNIQUE INDEX UIX_dimStore_rowKey ON [h12].[dimStore] ([rowKey]);\n",
                "go"
            ],
            "metadata": {
                "azdata_cell_guid": "93c54495-3a8d-4564-992c-8c4e3f34c580",
                "language": "sql",
                "tags": []
            },
            "outputs": [
                {
                    "output_type": "display_data",
                    "data": {
                        "text/html": "Commands completed successfully."
                    },
                    "metadata": {}
                },
                {
                    "output_type": "display_data",
                    "data": {
                        "text/html": "Commands completed successfully."
                    },
                    "metadata": {}
                },
                {
                    "output_type": "display_data",
                    "data": {
                        "text/html": "Commands completed successfully."
                    },
                    "metadata": {}
                },
                {
                    "output_type": "display_data",
                    "data": {
                        "text/html": "Total execution time: 00:00:00.209"
                    },
                    "metadata": {}
                }
            ],
            "execution_count": 7
        },
        {
            "cell_type": "code",
            "source": [
                "DROP TABLE if exists [h12].[dimStore_stg]\n",
                "go\n",
                "CREATE TABLE [h12].[dimStore_stg]\n",
                "(\n",
                "[id] [int] identity(1,1) not null\n",
                ", [rowKey] [nvarchar](20) not null\n",
                ", [name] [nvarchar](50) not null\n",
                ", [city] [nvarchar](50) not null\n",
                ", [location] [nvarchar](50) not null\n",
                ", [rowBatchId] [int] not null\n",
                ", [rowCreated] [datetime] not null default getutcdate()\n",
                ", [rowModified] [datetime] not null default getutcdate()\n",
                ", CONSTRAINT [pk_dimStore_stg] PRIMARY KEY CLUSTERED ([id])\n",
                ");\n",
                "go\n",
                "CREATE UNIQUE INDEX UIX_dimStore_stg_rowKey ON [h12].[dimStore_stg] ([rowKey]);\n",
                "go"
            ],
            "metadata": {
                "azdata_cell_guid": "9866c36a-4f52-48a8-bc03-8385d0466035",
                "language": "sql"
            },
            "outputs": [
                {
                    "output_type": "display_data",
                    "data": {
                        "text/html": "Commands completed successfully."
                    },
                    "metadata": {}
                },
                {
                    "output_type": "display_data",
                    "data": {
                        "text/html": "Commands completed successfully."
                    },
                    "metadata": {}
                },
                {
                    "output_type": "display_data",
                    "data": {
                        "text/html": "Commands completed successfully."
                    },
                    "metadata": {}
                },
                {
                    "output_type": "display_data",
                    "data": {
                        "text/html": "Total execution time: 00:00:00.213"
                    },
                    "metadata": {}
                }
            ],
            "execution_count": 8
        },
        {
            "cell_type": "code",
            "source": [
                "DROP PROCEDURE IF EXISTS [h12].[dimStore_publish];\n",
                "GO\n",
                "\n",
                "CREATE PROCEDURE [h12].[dimStore_publish]\n",
                "@BatchId INT\n",
                "AS\n",
                "BEGIN\n",
                "    MERGE INTO [h12].[dimStore] AS TRG\n",
                "    USING [h12].[dimStore_stg] AS SRC\n",
                "    ON SRC.[rowKey] = TRG.[rowKey]\n",
                "    AND SRC.[rowBatchId] = @BatchId\n",
                "    WHEN MATCHED THEN\n",
                "        UPDATE SET \n",
                "            TRG.[name] = SRC.[name],\n",
                "            TRG.[city] = SRC.[city],\n",
                "            TRG.[location] = SRC.[location],\n",
                "            TRG.[rowBatchId] = SRC.[rowBatchId],\n",
                "            TRG.[rowModified] = GETUTCDATE()\n",
                "    WHEN NOT MATCHED THEN\n",
                "        INSERT ( \n",
                "            [rowKey],\n",
                "            [name],\n",
                "            [city],\n",
                "            [location],\n",
                "            [rowBatchId],\n",
                "            [rowCreated],\n",
                "            [rowModified]\n",
                "        )\n",
                "        VALUES (\n",
                "            SRC.[rowKey],\n",
                "            SRC.[name],\n",
                "            SRC.[city],\n",
                "            SRC.[location],\n",
                "            SRC.[rowBatchId],\n",
                "            GETUTCDATE(),\n",
                "            GETUTCDATE()\n",
                "        );\n",
                "END;\n",
                "GO\n",
                ""
            ],
            "metadata": {
                "azdata_cell_guid": "4a6eaf76-dce0-471a-a792-b81ce80a8b27",
                "language": "sql"
            },
            "outputs": [
                {
                    "output_type": "display_data",
                    "data": {
                        "text/html": "Commands completed successfully."
                    },
                    "metadata": {}
                },
                {
                    "output_type": "display_data",
                    "data": {
                        "text/html": "Commands completed successfully."
                    },
                    "metadata": {}
                },
                {
                    "output_type": "display_data",
                    "data": {
                        "text/html": "Total execution time: 00:00:00.257"
                    },
                    "metadata": {}
                }
            ],
            "execution_count": 19
        },
        {
            "cell_type": "code",
            "source": [
                "DROP TABLE if exists [h12].[factInventory]\n",
                "go\n",
                "CREATE TABLE [h12].[factInventory]\n",
                "(\n",
                "[id] [int] identity(1,1) not null\n",
                ", [idStore] [int] not null\n",
                ", [idProduct] [int] not null\n",
                ", [inStock] [int] not null\n",
                ", [rowBatchId] [int] not null\n",
                ", [rowCreated] [datetime] not null default getutcdate()\n",
                ", [rowModified] [datetime] not null default getutcdate()\n",
                ", CONSTRAINT [pk_factInventory] PRIMARY KEY CLUSTERED ([id])\n",
                ");\n",
                "go"
            ],
            "metadata": {
                "azdata_cell_guid": "a1eb57dd-243d-42e7-99a4-f27f842b2f28",
                "language": "sql"
            },
            "outputs": [
                {
                    "output_type": "display_data",
                    "data": {
                        "text/html": "Commands completed successfully."
                    },
                    "metadata": {}
                },
                {
                    "output_type": "display_data",
                    "data": {
                        "text/html": "Commands completed successfully."
                    },
                    "metadata": {}
                },
                {
                    "output_type": "display_data",
                    "data": {
                        "text/html": "Total execution time: 00:00:00.267"
                    },
                    "metadata": {}
                }
            ],
            "execution_count": 10
        },
        {
            "cell_type": "code",
            "source": [
                "DROP TABLE if exists [h12].[factInventory_stg]\n",
                "go\n",
                "CREATE TABLE [h12].[factInventory_stg]\n",
                "(\n",
                "[id] [int] identity(1,1) not null\n",
                ", [idStore] [int] not null\n",
                ", [idProduct] [int] not null\n",
                ", [inStock] [int] not null\n",
                ", [rowBatchId] [int] not null\n",
                ", [rowCreated] [datetime] not null default getutcdate()\n",
                ", [rowModified] [datetime] not null default getutcdate()\n",
                ", CONSTRAINT [pk_factInventory_stg] PRIMARY KEY CLUSTERED ([id])\n",
                ");\n",
                "go"
            ],
            "metadata": {
                "azdata_cell_guid": "5b305532-e519-4ee4-8629-04df6ca4322d",
                "language": "sql"
            },
            "outputs": [
                {
                    "output_type": "display_data",
                    "data": {
                        "text/html": "Commands completed successfully."
                    },
                    "metadata": {}
                },
                {
                    "output_type": "display_data",
                    "data": {
                        "text/html": "Commands completed successfully."
                    },
                    "metadata": {}
                },
                {
                    "output_type": "display_data",
                    "data": {
                        "text/html": "Total execution time: 00:00:00.286"
                    },
                    "metadata": {}
                }
            ],
            "execution_count": 11
        },
        {
            "cell_type": "code",
            "source": [
                "DROP PROCEDURE IF EXISTS [h12].[factInventory_publish];\n",
                "GO\n",
                "\n",
                "CREATE PROCEDURE [h12].[factInventory_publish]\n",
                "@BatchId INT\n",
                "AS\n",
                "BEGIN\n",
                "    MERGE INTO [h12].[factInventory] AS TRG\n",
                "    USING (\n",
                "        SELECT * FROM [h12].[factInventory_stg]\n",
                "        WHERE [rowBatchId] = @BatchId\n",
                "    ) AS SRC\n",
                "    ON TRG.[idStore] = SRC.[idStore]\n",
                "    AND TRG.[idProduct] = SRC.[idProduct]\n",
                "    WHEN MATCHED THEN\n",
                "        UPDATE SET \n",
                "            TRG.[inStock] = SRC.[inStock],\n",
                "            TRG.[rowBatchId] = SRC.[rowBatchId],\n",
                "            TRG.[rowModified] = GETUTCDATE()\n",
                "    WHEN NOT MATCHED BY TARGET THEN\n",
                "        INSERT (\n",
                "            [idStore],\n",
                "            [idProduct],\n",
                "            [inStock],\n",
                "            [rowBatchId],\n",
                "            [rowCreated],\n",
                "            [rowModified]\n",
                "        )\n",
                "        VALUES (\n",
                "            SRC.[idStore],\n",
                "            SRC.[idProduct],\n",
                "            SRC.[inStock],\n",
                "            SRC.[rowBatchId],\n",
                "            GETUTCDATE(),\n",
                "            GETUTCDATE()\n",
                "        );\n",
                "END;\n",
                "GO\n",
                ""
            ],
            "metadata": {
                "azdata_cell_guid": "6d70a980-6d86-4b8a-ad53-839278cbb8b7",
                "language": "sql"
            },
            "outputs": [
                {
                    "output_type": "display_data",
                    "data": {
                        "text/html": "Commands completed successfully."
                    },
                    "metadata": {}
                },
                {
                    "output_type": "display_data",
                    "data": {
                        "text/html": "Commands completed successfully."
                    },
                    "metadata": {}
                },
                {
                    "output_type": "display_data",
                    "data": {
                        "text/html": "Total execution time: 00:00:00.425"
                    },
                    "metadata": {}
                }
            ],
            "execution_count": 20
        },
        {
            "cell_type": "code",
            "source": [
                "DROP TABLE if exists [h12].[factSales]\n",
                "go\n",
                "CREATE TABLE [h12].[factSales]\n",
                "(\n",
                "[id] [int] identity(1,1) not null\n",
                ", [idCalendar] [int] not null\n",
                ", [idStore] [int] not null\n",
                ", [idProduct] [int] not null\n",
                ", [receipt] [nvarchar](20) not null\n",
                ", [unitsSold] [smallint] not null\n",
                ", [rowBatchId] [int] not null\n",
                ", [rowCreated] [datetime] not null default getutcdate()\n",
                ", [rowModified] [datetime] not null default getutcdate()\n",
                ", CONSTRAINT [pk_factSales] PRIMARY KEY CLUSTERED ([id])\n",
                ");\n",
                "go"
            ],
            "metadata": {
                "azdata_cell_guid": "419f5919-0759-4c94-942c-576f41c159f1",
                "language": "sql"
            },
            "outputs": [
                {
                    "output_type": "display_data",
                    "data": {
                        "text/html": "Commands completed successfully."
                    },
                    "metadata": {}
                },
                {
                    "output_type": "display_data",
                    "data": {
                        "text/html": "Commands completed successfully."
                    },
                    "metadata": {}
                },
                {
                    "output_type": "display_data",
                    "data": {
                        "text/html": "Total execution time: 00:00:01.182"
                    },
                    "metadata": {}
                }
            ],
            "execution_count": 13
        },
        {
            "cell_type": "code",
            "source": [
                "DROP TABLE if exists [h12].[factSales_stg]\n",
                "go\n",
                "CREATE TABLE [h12].[factSales_stg]\n",
                "(\n",
                "[id] [int] identity(1,1) not null\n",
                ", [idCalendar] [int] not null\n",
                ", [idStore] [int] not null\n",
                ", [idProduct] [int] not null\n",
                ", [receipt] [nvarchar](20) not null\n",
                ", [unitsSold] [smallint] not null\n",
                ", [rowBatchId] [int] not null\n",
                ", [rowCreated] [datetime] not null default getutcdate()\n",
                ", [rowModified] [datetime] not null default getutcdate()\n",
                ", CONSTRAINT [pk_factSales_stg] PRIMARY KEY CLUSTERED ([id])\n",
                ");\n",
                "go"
            ],
            "metadata": {
                "azdata_cell_guid": "575d0ec0-65fd-45d6-9b79-91bfc9914cdc",
                "language": "sql"
            },
            "outputs": [
                {
                    "output_type": "display_data",
                    "data": {
                        "text/html": "Commands completed successfully."
                    },
                    "metadata": {}
                },
                {
                    "output_type": "display_data",
                    "data": {
                        "text/html": "Commands completed successfully."
                    },
                    "metadata": {}
                },
                {
                    "output_type": "display_data",
                    "data": {
                        "text/html": "Total execution time: 00:00:00.142"
                    },
                    "metadata": {}
                }
            ],
            "execution_count": 14
        },
        {
            "cell_type": "code",
            "source": [
                "DROP PROCEDURE IF EXISTS [h12].[factSales_publish];\n",
                "GO\n",
                "\n",
                "CREATE PROCEDURE [h12].[factSales_publish]\n",
                "@BatchId INT\n",
                "AS\n",
                "BEGIN\n",
                "    MERGE INTO [h12].[factSales] AS TRG\n",
                "    USING (\n",
                "        SELECT * FROM [h12].[factSales_stg]\n",
                "        WHERE [rowBatchId] = @BatchId\n",
                "    ) AS SRC\n",
                "    ON TRG.[idCalendar] = SRC.[idCalendar]\n",
                "    AND TRG.[idStore] = SRC.[idStore]\n",
                "    AND TRG.[idProduct] = SRC.[idProduct]\n",
                "    AND TRG.[receipt] = SRC.[receipt]\n",
                "    WHEN MATCHED THEN\n",
                "        UPDATE SET \n",
                "            TRG.[unitsSold] = SRC.[unitsSold],\n",
                "            TRG.[rowBatchId] = SRC.[rowBatchId],\n",
                "            TRG.[rowModified] = GETUTCDATE()\n",
                "    WHEN NOT MATCHED BY TARGET THEN\n",
                "        INSERT (\n",
                "            [idCalendar],\n",
                "            [idStore],\n",
                "            [idProduct],\n",
                "            [receipt],\n",
                "            [unitsSold],\n",
                "            [rowBatchId],\n",
                "            [rowCreated],\n",
                "            [rowModified]\n",
                "        )\n",
                "        VALUES (\n",
                "            SRC.[idCalendar],\n",
                "            SRC.[idStore],\n",
                "            SRC.[idProduct],\n",
                "            SRC.[receipt],\n",
                "            SRC.[unitsSold],\n",
                "            SRC.[rowBatchId],\n",
                "            GETUTCDATE(),\n",
                "            GETUTCDATE()\n",
                "        );\n",
                "END;\n",
                "GO\n",
                ""
            ],
            "metadata": {
                "azdata_cell_guid": "7a8ce8e6-b3dc-448d-9928-110d3d89dc1f",
                "language": "sql"
            },
            "outputs": [
                {
                    "output_type": "display_data",
                    "data": {
                        "text/html": "Commands completed successfully."
                    },
                    "metadata": {}
                },
                {
                    "output_type": "display_data",
                    "data": {
                        "text/html": "Commands completed successfully."
                    },
                    "metadata": {}
                },
                {
                    "output_type": "display_data",
                    "data": {
                        "text/html": "Total execution time: 00:00:00.189"
                    },
                    "metadata": {}
                }
            ],
            "execution_count": 21
        }
    ]
}